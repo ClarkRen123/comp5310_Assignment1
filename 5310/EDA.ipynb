{
 "cells": [
  {
   "cell_type": "code",
   "execution_count": null,
   "id": "f7a17050",
   "metadata": {},
   "outputs": [],
   "source": [
    "import matplotlib.pyplot as plt\n",
    "import seaborn as sns\n",
    "import statistics\n",
    "import warnings\n",
    "import pickle\n",
    "\n",
    "with open('data.pickle', 'rb') as f:\n",
    "    data = pickle.load(f)\n",
    "\n",
    "print(data)"
   ]
  },
  {
   "cell_type": "code",
   "execution_count": null,
   "id": "b6c3c507",
   "metadata": {},
   "outputs": [],
   "source": [
    "plt.figure(figsize=(12, 8))\n",
    "plt.plot(data['Date'], data['Open'], label='Open')\n",
    "plt.plot(data['Date'], data['High'], label='High')\n",
    "plt.plot(data['Date'], data['Low'], label='Low')\n",
    "plt.plot(data['Date'], data['Close'], label='Close')\n",
    "plt.plot(data['Date'], data['Adj Close'], label='Adj Close')\n",
    "plt.plot(data['Date'], data['AMD'], label='AMD')\n",
    "plt.plot(data['Date'], data['ASML'], label='ASML')\n",
    "plt.plot(data['Date'], data['QCOM'], label='QCOM')\n",
    "plt.plot(data['Date'], data['TXN'], label='TXN')\n",
    "plt.plot(data['Date'], data['INTEL'], label='INTEL')\n",
    "\n",
    "plt.title('NVDA stock price vs other semiconductor companies from 2018-2022')\n",
    "plt.xlabel('Year')\n",
    "plt.ylabel('$')\n",
    "plt.legend()\n",
    "plt.grid(True)\n",
    "plt.show()\n",
    "#plt.savefig('EDA_figs/stock.png')\n",
    "#plt.close()\n"
   ]
  },
  {
   "cell_type": "code",
   "execution_count": null,
   "id": "ab8d3eef",
   "metadata": {},
   "outputs": [],
   "source": [
    "fig, ax1 = plt.subplots(figsize=(10, 6))\n",
    "ax1.set_xlabel('Date')\n",
    "ax1.set_ylabel('Price')\n",
    "ax1.plot(data['Date'], data['Close'], label='Close')\n",
    "ax1.plot(data['Date'], data['Open'], label='Open')\n",
    "ax1.plot(data['Date'], data['High'], label='High')\n",
    "ax1.plot(data['Date'], data['Low'], label='Low')\n",
    "ax1.tick_params(axis='y')\n",
    "ax2 = ax1.twinx()\n",
    "ax2.set_ylabel('Volume')\n",
    "ax2.plot(data['Date'], data['Volume'], color = 'tab:gray',label='Volume')\n",
    "ax2.tick_params(axis='y')\n",
    "fig.tight_layout()\n",
    "plt.title('NVDA price vs volume')\n",
    "fig.legend()\n",
    "plt.show()\n",
    "#plt.savefig('EDA_figs/volume.png')\n",
    "#plt.close()\n",
    "\n"
   ]
  },
  {
   "cell_type": "code",
   "execution_count": null,
   "id": "45c18a17",
   "metadata": {},
   "outputs": [],
   "source": [
    "fig, ax1 = plt.subplots(figsize=(12, 10))\n",
    "ax1.set_xlabel('Date')\n",
    "ax1.set_ylabel('NVIDIA Close price')\n",
    "ax1.plot(data['Date'], data['Close'], label='Close')\n",
    "ax1.tick_params(axis='y')\n",
    "ax2 = ax1.twinx()\n",
    "ax2.set_ylabel('crypto price')\n",
    "ax2.plot(data['Date'], data['BTC'], color = 'tab:red',label='BTC')\n",
    "ax2.plot(data['Date'], data['ETH'], color = 'tab:green',label='ETH')\n",
    "ax2.tick_params(axis='y')\n",
    "fig.tight_layout()\n",
    "plt.title('NVDA price vs crypto currency',pad=-10)\n",
    "fig.legend()\n",
    "plt.show()\n",
    "#plt.savefig('EDA_figs/crypto.png')\n",
    "#plt.close()\n",
    "\n"
   ]
  },
  {
   "cell_type": "code",
   "execution_count": null,
   "id": "1f1bb306",
   "metadata": {},
   "outputs": [],
   "source": [
    "fig, ax1 = plt.subplots(figsize=(10, 6))\n",
    "ax1.set_xlabel('Date')\n",
    "ax1.set_ylabel('NVIDIA trade volume')\n",
    "ax1.plot(data['Date'], data['Volume'], label='NVDA Volume')\n",
    "ax1.tick_params(axis='y')\n",
    "ax2 = ax1.twinx()\n",
    "ax2.set_ylabel('crypto trade volume')\n",
    "ax2.plot(data['Date'], data['BTC-Volume'], color = 'tab:red',label='BTC Volume')\n",
    "ax2.plot(data['Date'], data['ETH-Volume'], color = 'tab:green',label='ETH Volume')\n",
    "ax2.tick_params(axis='y')\n",
    "fig.tight_layout()\n",
    "plt.title('NVDA volume vs crypto currency')\n",
    "fig.legend()\n",
    "plt.show()\n",
    "#plt.savefig('EDA_figs/crypto_volume.png')\n",
    "#plt.close()\n",
    "\n",
    "\n",
    "'''\n",
    "NVIDIA release'] = NVR\n",
    "result_df['NVIDIA median performance'] = NVP1\n",
    "result_df['NVIDIA maximum performance'] = NVP2\n",
    "result_df['others release'] = OTR\n",
    "result_df['others median performance'] = OTP1\n",
    "result_df['others maximum performance\n",
    "'''\n"
   ]
  },
  {
   "cell_type": "code",
   "execution_count": null,
   "id": "05374684",
   "metadata": {},
   "outputs": [],
   "source": [
    "fig, ax1 = plt.subplots(figsize=(12, 10))\n",
    "ax1.set_xlabel('Date')\n",
    "ax1.set_ylabel('NVIDIA close price $')\n",
    "ax1.plot(data['Date'], data['Close'], color = 'tab:cyan',label='NVDA Close price')\n",
    "ax1.tick_params(axis='y')\n",
    "ax2 = ax1.twinx()\n",
    "ax2.set_ylabel('benchmark data')\n",
    "ax2.plot(data['Date'], data['NVIDIA median performance'], label='NVIDIA median performance')\n",
    "ax2.plot(data['Date'], data['NVIDIA maximum performance'], label='NVIDIA maximum performance')\n",
    "ax2.plot(data['Date'], data['others median performance'], label='others median performance')\n",
    "ax2.plot(data['Date'], data['others maximum performance'], label='others maximum performance')\n",
    "ax2.plot(data['Date'], data['NVIDIA release'], label='NVIDIA release')\n",
    "ax2.plot(data['Date'], data['others release'], label='others release')\n",
    "ax2.tick_params(axis='y')\n",
    "fig.tight_layout()\n",
    "plt.title('NVDA close price vs benchmark test data')\n",
    "fig.legend()\n",
    "plt.show()\n",
    "#plt.savefig('EDA_figs/benchmark.png')\n",
    "#plt.close()\n",
    "\n"
   ]
  },
  {
   "cell_type": "code",
   "execution_count": null,
   "id": "536d06ab",
   "metadata": {},
   "outputs": [],
   "source": [
    "plt.scatter(data['Close'],data['ASML'],data['AMD'],data['QCOM'])\n",
    "plt.title('Possible strongly correlated stock with NVDA')\n",
    "plt.show()\n",
    "#plt.savefig('EDA_figs/scatter.png')\n",
    "#plt.close()\n",
    "\n"
   ]
  },
  {
   "cell_type": "code",
   "execution_count": null,
   "id": "42c0363d",
   "metadata": {},
   "outputs": [],
   "source": [
    "plt.figure(figsize=(15, 10))\n",
    "heat = sns.heatmap(data.corr(),annot=True)\n",
    "plt.title('heat map')\n",
    "plt.show()\n",
    "#plt.savefig('EDA_figs/heat.png')"
   ]
  }
 ],
 "metadata": {
  "kernelspec": {
   "display_name": "Python 3 (ipykernel)",
   "language": "python",
   "name": "python3"
  },
  "language_info": {
   "codemirror_mode": {
    "name": "ipython",
    "version": 3
   },
   "file_extension": ".py",
   "mimetype": "text/x-python",
   "name": "python",
   "nbconvert_exporter": "python",
   "pygments_lexer": "ipython3",
   "version": "3.11.4"
  }
 },
 "nbformat": 4,
 "nbformat_minor": 5
}
